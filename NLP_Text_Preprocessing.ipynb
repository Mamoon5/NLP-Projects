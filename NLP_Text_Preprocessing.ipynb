{
 "cells": [
  {
   "cell_type": "markdown",
   "id": "ed8cac24",
   "metadata": {},
   "source": [
    "### Creation of Dataset"
   ]
  },
  {
   "cell_type": "code",
   "execution_count": 1,
   "id": "1547f40f",
   "metadata": {},
   "outputs": [],
   "source": [
    "import pandas as pd\n",
    "import requests"
   ]
  },
  {
   "cell_type": "code",
   "execution_count": 2,
   "id": "6a2bdea3",
   "metadata": {},
   "outputs": [],
   "source": [
    "url = 'https://api.themoviedb.org/3/movie/top_rated?api_key=8265bd1679663a7ea12ac168da84d2e8&language=en-US&page=1'"
   ]
  },
  {
   "cell_type": "code",
   "execution_count": 3,
   "id": "7672b4f5",
   "metadata": {},
   "outputs": [],
   "source": [
    "r = requests.get(url)"
   ]
  },
  {
   "cell_type": "code",
   "execution_count": 4,
   "id": "6538516e",
   "metadata": {},
   "outputs": [],
   "source": [
    "json = r.json()"
   ]
  },
  {
   "cell_type": "code",
   "execution_count": 5,
   "id": "6956e52e",
   "metadata": {},
   "outputs": [
    {
     "data": {
      "text/plain": [
       "{'page': 1,\n",
       " 'results': [{'adult': False,\n",
       "   'backdrop_path': '/tmU7GeKVybMWFButWEGl2M4GeiP.jpg',\n",
       "   'genre_ids': [18, 80],\n",
       "   'id': 238,\n",
       "   'original_language': 'en',\n",
       "   'original_title': 'The Godfather',\n",
       "   'overview': 'Spanning the years 1945 to 1955, a chronicle of the fictional Italian-American Corleone crime family. When organized crime family patriarch, Vito Corleone barely survives an attempt on his life, his youngest son, Michael steps in to take care of the would-be killers, launching a campaign of bloody revenge.',\n",
       "   'popularity': 121.392,\n",
       "   'poster_path': '/3bhkrj58Vtu7enYsRolD1fZdja1.jpg',\n",
       "   'release_date': '1972-03-14',\n",
       "   'title': 'The Godfather',\n",
       "   'video': False,\n",
       "   'vote_average': 8.7,\n",
       "   'vote_count': 17282},\n",
       "  {'adult': False,\n",
       "   'backdrop_path': '/wPU78OPN4BYEgWYdXyg0phMee64.jpg',\n",
       "   'genre_ids': [18, 80],\n",
       "   'id': 278,\n",
       "   'original_language': 'en',\n",
       "   'original_title': 'The Shawshank Redemption',\n",
       "   'overview': 'Framed in the 1940s for the double murder of his wife and her lover, upstanding banker Andy Dufresne begins a new life at the Shawshank prison, where he puts his accounting skills to work for an amoral warden. During his long stretch in prison, Dufresne comes to be admired by the other inmates -- including an older prisoner named Red -- for his integrity and unquenchable sense of hope.',\n",
       "   'popularity': 84.767,\n",
       "   'poster_path': '/hBcY0fE9pfXzvVaY4GKarweriG2.jpg',\n",
       "   'release_date': '1994-09-23',\n",
       "   'title': 'The Shawshank Redemption',\n",
       "   'video': False,\n",
       "   'vote_average': 8.7,\n",
       "   'vote_count': 23076},\n",
       "  {'adult': False,\n",
       "   'backdrop_path': '/r9PkFnRUIthgBp2JZZzD380MWZy.jpg',\n",
       "   'genre_ids': [16, 28, 12, 35, 10751, 14],\n",
       "   'id': 315162,\n",
       "   'original_language': 'en',\n",
       "   'original_title': 'Puss in Boots: The Last Wish',\n",
       "   'overview': 'Puss in Boots discovers that his passion for adventure has taken its toll: He has burned through eight of his nine lives, leaving him with only one life left. Puss sets out on an epic journey to find the mythical Last Wish and restore his nine lives.',\n",
       "   'popularity': 10610.921,\n",
       "   'poster_path': '/1NqwE6LP9IEdOZ57NCT51ftHtWT.jpg',\n",
       "   'release_date': '2022-12-21',\n",
       "   'title': 'Puss in Boots: The Last Wish',\n",
       "   'video': False,\n",
       "   'vote_average': 8.6,\n",
       "   'vote_count': 1476},\n",
       "  {'adult': False,\n",
       "   'backdrop_path': '/kGzFbGhp99zva6oZODW5atUtnqi.jpg',\n",
       "   'genre_ids': [18, 80],\n",
       "   'id': 240,\n",
       "   'original_language': 'en',\n",
       "   'original_title': 'The Godfather Part II',\n",
       "   'overview': 'In the continuing saga of the Corleone crime family, a young Vito Corleone grows up in Sicily and in 1910s New York. In the 1950s, Michael Corleone attempts to expand the family business into Las Vegas, Hollywood and Cuba.',\n",
       "   'popularity': 72.517,\n",
       "   'poster_path': '/hek3koDUyRQk7FIhPXsa6mT2Zc3.jpg',\n",
       "   'release_date': '1974-12-20',\n",
       "   'title': 'The Godfather Part II',\n",
       "   'video': False,\n",
       "   'vote_average': 8.6,\n",
       "   'vote_count': 10461},\n",
       "  {'adult': False,\n",
       "   'backdrop_path': '/zb6fM1CX41D9rF9hdgclu0peUmy.jpg',\n",
       "   'genre_ids': [18, 36, 10752],\n",
       "   'id': 424,\n",
       "   'original_language': 'en',\n",
       "   'original_title': \"Schindler's List\",\n",
       "   'overview': 'The true story of how businessman Oskar Schindler saved over a thousand Jewish lives from the Nazis while they worked as slaves in his factory during World War II.',\n",
       "   'popularity': 54.113,\n",
       "   'poster_path': '/sF1U4EUQS8YHUYjNl3pMGNIQyr0.jpg',\n",
       "   'release_date': '1993-12-15',\n",
       "   'title': \"Schindler's List\",\n",
       "   'video': False,\n",
       "   'vote_average': 8.6,\n",
       "   'vote_count': 13656},\n",
       "  {'adult': False,\n",
       "   'backdrop_path': '/vI3aUGTuRRdM7J78KIdW98LdxE5.jpg',\n",
       "   'genre_ids': [35, 18, 10749],\n",
       "   'id': 19404,\n",
       "   'original_language': 'hi',\n",
       "   'original_title': 'दिलवाले दुल्हनिया ले जायेंगे',\n",
       "   'overview': 'Raj is a rich, carefree, happy-go-lucky second generation NRI. Simran is the daughter of Chaudhary Baldev Singh, who in spite of being an NRI is very strict about adherence to Indian values. Simran has left for India to be married to her childhood fiancé. Raj leaves for India with a mission at his hands, to claim his lady love under the noses of her whole family. Thus begins a saga.',\n",
       "   'popularity': 32.857,\n",
       "   'poster_path': '/2CAL2433ZeIihfX1Hb2139CX0pW.jpg',\n",
       "   'release_date': '1995-10-19',\n",
       "   'title': 'Dilwale Dulhania Le Jayenge',\n",
       "   'video': False,\n",
       "   'vote_average': 8.6,\n",
       "   'vote_count': 4023},\n",
       "  {'adult': False,\n",
       "   'backdrop_path': '/Ab8mkHmkYADjU7wQiOkia9BzGvS.jpg',\n",
       "   'genre_ids': [16, 10751, 14],\n",
       "   'id': 129,\n",
       "   'original_language': 'ja',\n",
       "   'original_title': '千と千尋の神隠し',\n",
       "   'overview': 'A young girl, Chihiro, becomes trapped in a strange new world of spirits. When her parents undergo a mysterious transformation, she must call upon the courage she never knew she had to free her family.',\n",
       "   'popularity': 74.151,\n",
       "   'poster_path': '/39wmItIWsg5sZMyRUHLkWBcuVCM.jpg',\n",
       "   'release_date': '2001-07-20',\n",
       "   'title': 'Spirited Away',\n",
       "   'video': False,\n",
       "   'vote_average': 8.5,\n",
       "   'vote_count': 13808},\n",
       "  {'adult': False,\n",
       "   'backdrop_path': '/qqHQsStV6exghCM7zbObuYBiYxw.jpg',\n",
       "   'genre_ids': [18],\n",
       "   'id': 389,\n",
       "   'original_language': 'en',\n",
       "   'original_title': '12 Angry Men',\n",
       "   'overview': \"The defense and the prosecution have rested and the jury is filing into the jury room to decide if a young Spanish-American is guilty or innocent of murdering his father. What begins as an open and shut case soon becomes a mini-drama of each of the jurors' prejudices and preconceptions about the trial, the accused, and each other.\",\n",
       "   'popularity': 32.734,\n",
       "   'poster_path': '/ppd84D2i9W8jXmsyInGyihiSyqz.jpg',\n",
       "   'release_date': '1957-04-10',\n",
       "   'title': '12 Angry Men',\n",
       "   'video': False,\n",
       "   'vote_average': 8.5,\n",
       "   'vote_count': 6955},\n",
       "  {'adult': False,\n",
       "   'backdrop_path': '/dIWwZW7dJJtqC6CgWzYkNVKIUm8.jpg',\n",
       "   'genre_ids': [10749, 16, 18],\n",
       "   'id': 372058,\n",
       "   'original_language': 'ja',\n",
       "   'original_title': '君の名は。',\n",
       "   'overview': 'High schoolers Mitsuha and Taki are complete strangers living separate lives. But one night, they suddenly switch places. Mitsuha wakes up in Taki’s body, and he in hers. This bizarre occurrence continues to happen randomly, and the two must adjust their lives around each other.',\n",
       "   'popularity': 103.411,\n",
       "   'poster_path': '/q719jXXEzOoYaps6babgKnONONX.jpg',\n",
       "   'release_date': '2016-08-26',\n",
       "   'title': 'Your Name.',\n",
       "   'video': False,\n",
       "   'vote_average': 8.5,\n",
       "   'vote_count': 9406},\n",
       "  {'adult': False,\n",
       "   'backdrop_path': '/hiKmpZMGZsrkA3cdce8a7Dpos1j.jpg',\n",
       "   'genre_ids': [35, 53, 18],\n",
       "   'id': 496243,\n",
       "   'original_language': 'ko',\n",
       "   'original_title': '기생충',\n",
       "   'overview': \"All unemployed, Ki-taek's family takes peculiar interest in the wealthy and glamorous Parks for their livelihood until they get entangled in an unexpected incident.\",\n",
       "   'popularity': 78.072,\n",
       "   'poster_path': '/7IiTTgloJzvGI1TAYymCfbfl3vT.jpg',\n",
       "   'release_date': '2019-05-30',\n",
       "   'title': 'Parasite',\n",
       "   'video': False,\n",
       "   'vote_average': 8.5,\n",
       "   'vote_count': 15058},\n",
       "  {'adult': False,\n",
       "   'backdrop_path': '/3RMLbSEXOn1CzLoNT7xFeLfdxhq.jpg',\n",
       "   'genre_ids': [10749, 16],\n",
       "   'id': 372754,\n",
       "   'original_language': 'ja',\n",
       "   'original_title': '同級生',\n",
       "   'overview': 'Rihito Sajo, an honor student with a perfect score on the entrance exam and Hikaru Kusakabe, in a band and popular among girls, would have never crossed paths. Until one day they started talking at the practice for their school’s upcoming chorus festival. After school, the two meet regularly, as Hikaru helps Rihito to improve his singing skills. While they listen to each other’s voice and harmonize, their hearts start to beat together.',\n",
       "   'popularity': 13.421,\n",
       "   'poster_path': '/cIfRCA5wEvj9tApca4UDUagQEiM.jpg',\n",
       "   'release_date': '2016-02-20',\n",
       "   'title': 'Dou kyu sei – Classmates',\n",
       "   'video': False,\n",
       "   'vote_average': 8.5,\n",
       "   'vote_count': 285},\n",
       "  {'adult': False,\n",
       "   'backdrop_path': '/l6hQWH9eDksNJNiXWYRkWqikOdu.jpg',\n",
       "   'genre_ids': [14, 18, 80],\n",
       "   'id': 497,\n",
       "   'original_language': 'en',\n",
       "   'original_title': 'The Green Mile',\n",
       "   'overview': \"A supernatural tale set on death row in a Southern prison, where gentle giant John Coffey possesses the mysterious power to heal people's ailments. When the cell block's head guard, Paul Edgecomb, recognizes Coffey's miraculous gift, he tries desperately to help stave off the condemned man's execution.\",\n",
       "   'popularity': 107.552,\n",
       "   'poster_path': '/velWPhVMQeQKcxggNEU8YmIo52R.jpg',\n",
       "   'release_date': '1999-12-10',\n",
       "   'title': 'The Green Mile',\n",
       "   'video': False,\n",
       "   'vote_average': 8.5,\n",
       "   'vote_count': 14861},\n",
       "  {'adult': False,\n",
       "   'backdrop_path': '/pbEkjhdfP7yuDcMB78YEZwgD4IN.jpg',\n",
       "   'genre_ids': [18, 28, 80, 53],\n",
       "   'id': 155,\n",
       "   'original_language': 'en',\n",
       "   'original_title': 'The Dark Knight',\n",
       "   'overview': 'Batman raises the stakes in his war on crime. With the help of Lt. Jim Gordon and District Attorney Harvey Dent, Batman sets out to dismantle the remaining criminal organizations that plague the streets. The partnership proves to be effective, but they soon find themselves prey to a reign of chaos unleashed by a rising criminal mastermind known to the terrified citizens of Gotham as the Joker.',\n",
       "   'popularity': 89.98,\n",
       "   'poster_path': '/qJ2tW6WMUDux911r6m7haRef0WH.jpg',\n",
       "   'release_date': '2008-07-14',\n",
       "   'title': 'The Dark Knight',\n",
       "   'video': False,\n",
       "   'vote_average': 8.5,\n",
       "   'vote_count': 28966},\n",
       "  {'adult': False,\n",
       "   'backdrop_path': '/suaEOtk1N1sgg2MTM7oZd2cfVp3.jpg',\n",
       "   'genre_ids': [53, 80],\n",
       "   'id': 680,\n",
       "   'original_language': 'en',\n",
       "   'original_title': 'Pulp Fiction',\n",
       "   'overview': \"A burger-loving hit man, his philosophical partner, a drug-addled gangster's moll and a washed-up boxer converge in this sprawling, comedic crime caper. Their adventures unfurl in three stories that ingeniously trip back and forth in time.\",\n",
       "   'popularity': 68.888,\n",
       "   'poster_path': '/fIE3lAGcZDV1G6XM5KmuWnNsPp1.jpg',\n",
       "   'release_date': '1994-09-10',\n",
       "   'title': 'Pulp Fiction',\n",
       "   'video': False,\n",
       "   'vote_average': 8.5,\n",
       "   'vote_count': 24440},\n",
       "  {'adult': False,\n",
       "   'backdrop_path': '/eoCSp75lxatmIa6aGqfnzwtbttd.jpg',\n",
       "   'genre_ids': [37],\n",
       "   'id': 429,\n",
       "   'original_language': 'it',\n",
       "   'original_title': 'Il buono, il brutto, il cattivo',\n",
       "   'overview': 'While the Civil War rages on between the Union and the Confederacy, three men – a quiet loner, a ruthless hitman, and a Mexican bandit – comb the American Southwest in search of a strongbox containing $200,000 in stolen gold.',\n",
       "   'popularity': 54.142,\n",
       "   'poster_path': '/bX2xnavhMYjWDoZp1VM6VnU1xwe.jpg',\n",
       "   'release_date': '1966-12-23',\n",
       "   'title': 'The Good, the Bad and the Ugly',\n",
       "   'video': False,\n",
       "   'vote_average': 8.5,\n",
       "   'vote_count': 7125},\n",
       "  {'adult': False,\n",
       "   'backdrop_path': '/3h1JZGDhZ8nzxdgvkxha0qBqi05.jpg',\n",
       "   'genre_ids': [35, 18, 10749],\n",
       "   'id': 13,\n",
       "   'original_language': 'en',\n",
       "   'original_title': 'Forrest Gump',\n",
       "   'overview': 'A man with a low IQ has accomplished great things in his life and been present during significant historic events—in each case, far exceeding what anyone imagined he could do. But despite all he has achieved, his one true love eludes him.',\n",
       "   'popularity': 87.644,\n",
       "   'poster_path': '/arw2vcBveWOVZr6pxd9XTd1TdQa.jpg',\n",
       "   'release_date': '1994-06-23',\n",
       "   'title': 'Forrest Gump',\n",
       "   'video': False,\n",
       "   'vote_average': 8.5,\n",
       "   'vote_count': 23950},\n",
       "  {'adult': False,\n",
       "   'backdrop_path': '/w2uGvCpMtvRqZg6waC1hvLyZoJa.jpg',\n",
       "   'genre_ids': [10749],\n",
       "   'id': 696374,\n",
       "   'original_language': 'en',\n",
       "   'original_title': \"Gabriel's Inferno\",\n",
       "   'overview': \"An intriguing and sinful exploration of seduction, forbidden love, and redemption, Gabriel's Inferno is a captivating and wildly passionate tale of one man's escape from his own personal hell as he tries to earn the impossible--forgiveness and love.\",\n",
       "   'popularity': 11.994,\n",
       "   'poster_path': '/oyG9TL7FcRP4EZ9Vid6uKzwdndz.jpg',\n",
       "   'release_date': '2020-05-29',\n",
       "   'title': \"Gabriel's Inferno\",\n",
       "   'video': False,\n",
       "   'vote_average': 8.5,\n",
       "   'vote_count': 2318},\n",
       "  {'adult': False,\n",
       "   'backdrop_path': '/lXhgCODAbBXL5buk9yEmTpOoOgR.jpg',\n",
       "   'genre_ids': [12, 14, 28],\n",
       "   'id': 122,\n",
       "   'original_language': 'en',\n",
       "   'original_title': 'The Lord of the Rings: The Return of the King',\n",
       "   'overview': \"Aragorn is revealed as the heir to the ancient kings as he, Gandalf and the other members of the broken fellowship struggle to save Gondor from Sauron's forces. Meanwhile, Frodo and Sam take the ring closer to the heart of Mordor, the dark lord's realm.\",\n",
       "   'popularity': 87.353,\n",
       "   'poster_path': '/rCzpDGLbOoPwLjy3OAm5NUPOTrC.jpg',\n",
       "   'release_date': '2003-12-01',\n",
       "   'title': 'The Lord of the Rings: The Return of the King',\n",
       "   'video': False,\n",
       "   'vote_average': 8.5,\n",
       "   'vote_count': 20923},\n",
       "  {'adult': False,\n",
       "   'backdrop_path': '/sw7mordbZxgITU877yTpZCud90M.jpg',\n",
       "   'genre_ids': [18, 80],\n",
       "   'id': 769,\n",
       "   'original_language': 'en',\n",
       "   'original_title': 'GoodFellas',\n",
       "   'overview': 'The true story of Henry Hill, a half-Irish, half-Sicilian Brooklyn kid who is adopted by neighbourhood gangsters at an early age and climbs the ranks of a Mafia family under the guidance of Jimmy Conway.',\n",
       "   'popularity': 46.168,\n",
       "   'poster_path': '/aKuFiU82s5ISJpGZp7YkIr3kCUd.jpg',\n",
       "   'release_date': '1990-09-12',\n",
       "   'title': 'GoodFellas',\n",
       "   'video': False,\n",
       "   'vote_average': 8.5,\n",
       "   'vote_count': 10872},\n",
       "  {'adult': False,\n",
       "   'backdrop_path': '/jtAI6OJIWLWiRItNSZoWjrsUtmi.jpg',\n",
       "   'genre_ids': [10749],\n",
       "   'id': 724089,\n",
       "   'original_language': 'en',\n",
       "   'original_title': \"Gabriel's Inferno: Part II\",\n",
       "   'overview': \"Professor Gabriel Emerson finally learns the truth about Julia Mitchell's identity, but his realization comes a moment too late. Julia is done waiting for the well-respected Dante specialist to remember her and wants nothing more to do with him. Can Gabriel win back her heart before she finds love in another's arms?\",\n",
       "   'popularity': 14.147,\n",
       "   'poster_path': '/x5o8cLZfEXMoZczTYWLrUo1P7UJ.jpg',\n",
       "   'release_date': '2020-07-31',\n",
       "   'title': \"Gabriel's Inferno: Part II\",\n",
       "   'video': False,\n",
       "   'vote_average': 8.5,\n",
       "   'vote_count': 1456}],\n",
       " 'total_pages': 535,\n",
       " 'total_results': 10694}"
      ]
     },
     "execution_count": 5,
     "metadata": {},
     "output_type": "execute_result"
    }
   ],
   "source": [
    "json"
   ]
  },
  {
   "cell_type": "code",
   "execution_count": 6,
   "id": "79871906",
   "metadata": {},
   "outputs": [
    {
     "data": {
      "text/plain": [
       "dict_keys(['page', 'results', 'total_pages', 'total_results'])"
      ]
     },
     "execution_count": 6,
     "metadata": {},
     "output_type": "execute_result"
    }
   ],
   "source": [
    "json.keys()"
   ]
  },
  {
   "cell_type": "code",
   "execution_count": 7,
   "id": "0920f1fd",
   "metadata": {},
   "outputs": [],
   "source": [
    "titles=[]\n",
    "for value in json['results']:\n",
    "   titles.append(value['title'])"
   ]
  },
  {
   "cell_type": "code",
   "execution_count": 8,
   "id": "4e405b48",
   "metadata": {},
   "outputs": [
    {
     "data": {
      "text/plain": [
       "['The Godfather',\n",
       " 'The Shawshank Redemption',\n",
       " 'Puss in Boots: The Last Wish',\n",
       " 'The Godfather Part II',\n",
       " \"Schindler's List\",\n",
       " 'Dilwale Dulhania Le Jayenge',\n",
       " 'Spirited Away',\n",
       " '12 Angry Men',\n",
       " 'Your Name.',\n",
       " 'Parasite',\n",
       " 'Dou kyu sei – Classmates',\n",
       " 'The Green Mile',\n",
       " 'The Dark Knight',\n",
       " 'Pulp Fiction',\n",
       " 'The Good, the Bad and the Ugly',\n",
       " 'Forrest Gump',\n",
       " \"Gabriel's Inferno\",\n",
       " 'The Lord of the Rings: The Return of the King',\n",
       " 'GoodFellas',\n",
       " \"Gabriel's Inferno: Part II\"]"
      ]
     },
     "execution_count": 8,
     "metadata": {},
     "output_type": "execute_result"
    }
   ],
   "source": [
    "titles"
   ]
  },
  {
   "cell_type": "code",
   "execution_count": 9,
   "id": "a8c45edc",
   "metadata": {},
   "outputs": [],
   "source": [
    "overview=[]\n",
    "for value in json['results']:\n",
    "   overview.append(value['overview'])"
   ]
  },
  {
   "cell_type": "code",
   "execution_count": 10,
   "id": "7ac03d94",
   "metadata": {},
   "outputs": [
    {
     "data": {
      "text/plain": [
       "['Spanning the years 1945 to 1955, a chronicle of the fictional Italian-American Corleone crime family. When organized crime family patriarch, Vito Corleone barely survives an attempt on his life, his youngest son, Michael steps in to take care of the would-be killers, launching a campaign of bloody revenge.',\n",
       " 'Framed in the 1940s for the double murder of his wife and her lover, upstanding banker Andy Dufresne begins a new life at the Shawshank prison, where he puts his accounting skills to work for an amoral warden. During his long stretch in prison, Dufresne comes to be admired by the other inmates -- including an older prisoner named Red -- for his integrity and unquenchable sense of hope.',\n",
       " 'Puss in Boots discovers that his passion for adventure has taken its toll: He has burned through eight of his nine lives, leaving him with only one life left. Puss sets out on an epic journey to find the mythical Last Wish and restore his nine lives.',\n",
       " 'In the continuing saga of the Corleone crime family, a young Vito Corleone grows up in Sicily and in 1910s New York. In the 1950s, Michael Corleone attempts to expand the family business into Las Vegas, Hollywood and Cuba.',\n",
       " 'The true story of how businessman Oskar Schindler saved over a thousand Jewish lives from the Nazis while they worked as slaves in his factory during World War II.',\n",
       " 'Raj is a rich, carefree, happy-go-lucky second generation NRI. Simran is the daughter of Chaudhary Baldev Singh, who in spite of being an NRI is very strict about adherence to Indian values. Simran has left for India to be married to her childhood fiancé. Raj leaves for India with a mission at his hands, to claim his lady love under the noses of her whole family. Thus begins a saga.',\n",
       " 'A young girl, Chihiro, becomes trapped in a strange new world of spirits. When her parents undergo a mysterious transformation, she must call upon the courage she never knew she had to free her family.',\n",
       " \"The defense and the prosecution have rested and the jury is filing into the jury room to decide if a young Spanish-American is guilty or innocent of murdering his father. What begins as an open and shut case soon becomes a mini-drama of each of the jurors' prejudices and preconceptions about the trial, the accused, and each other.\",\n",
       " 'High schoolers Mitsuha and Taki are complete strangers living separate lives. But one night, they suddenly switch places. Mitsuha wakes up in Taki’s body, and he in hers. This bizarre occurrence continues to happen randomly, and the two must adjust their lives around each other.',\n",
       " \"All unemployed, Ki-taek's family takes peculiar interest in the wealthy and glamorous Parks for their livelihood until they get entangled in an unexpected incident.\",\n",
       " 'Rihito Sajo, an honor student with a perfect score on the entrance exam and Hikaru Kusakabe, in a band and popular among girls, would have never crossed paths. Until one day they started talking at the practice for their school’s upcoming chorus festival. After school, the two meet regularly, as Hikaru helps Rihito to improve his singing skills. While they listen to each other’s voice and harmonize, their hearts start to beat together.',\n",
       " \"A supernatural tale set on death row in a Southern prison, where gentle giant John Coffey possesses the mysterious power to heal people's ailments. When the cell block's head guard, Paul Edgecomb, recognizes Coffey's miraculous gift, he tries desperately to help stave off the condemned man's execution.\",\n",
       " 'Batman raises the stakes in his war on crime. With the help of Lt. Jim Gordon and District Attorney Harvey Dent, Batman sets out to dismantle the remaining criminal organizations that plague the streets. The partnership proves to be effective, but they soon find themselves prey to a reign of chaos unleashed by a rising criminal mastermind known to the terrified citizens of Gotham as the Joker.',\n",
       " \"A burger-loving hit man, his philosophical partner, a drug-addled gangster's moll and a washed-up boxer converge in this sprawling, comedic crime caper. Their adventures unfurl in three stories that ingeniously trip back and forth in time.\",\n",
       " 'While the Civil War rages on between the Union and the Confederacy, three men – a quiet loner, a ruthless hitman, and a Mexican bandit – comb the American Southwest in search of a strongbox containing $200,000 in stolen gold.',\n",
       " 'A man with a low IQ has accomplished great things in his life and been present during significant historic events—in each case, far exceeding what anyone imagined he could do. But despite all he has achieved, his one true love eludes him.',\n",
       " \"An intriguing and sinful exploration of seduction, forbidden love, and redemption, Gabriel's Inferno is a captivating and wildly passionate tale of one man's escape from his own personal hell as he tries to earn the impossible--forgiveness and love.\",\n",
       " \"Aragorn is revealed as the heir to the ancient kings as he, Gandalf and the other members of the broken fellowship struggle to save Gondor from Sauron's forces. Meanwhile, Frodo and Sam take the ring closer to the heart of Mordor, the dark lord's realm.\",\n",
       " 'The true story of Henry Hill, a half-Irish, half-Sicilian Brooklyn kid who is adopted by neighbourhood gangsters at an early age and climbs the ranks of a Mafia family under the guidance of Jimmy Conway.',\n",
       " \"Professor Gabriel Emerson finally learns the truth about Julia Mitchell's identity, but his realization comes a moment too late. Julia is done waiting for the well-respected Dante specialist to remember her and wants nothing more to do with him. Can Gabriel win back her heart before she finds love in another's arms?\"]"
      ]
     },
     "execution_count": 10,
     "metadata": {},
     "output_type": "execute_result"
    }
   ],
   "source": [
    "overview"
   ]
  },
  {
   "cell_type": "code",
   "execution_count": 11,
   "id": "6e7895f9",
   "metadata": {},
   "outputs": [],
   "source": [
    "genre_ids=[]\n",
    "for value in json['results']:\n",
    "   genre_ids.append(value['genre_ids'])"
   ]
  },
  {
   "cell_type": "code",
   "execution_count": 12,
   "id": "c8ccb6d2",
   "metadata": {},
   "outputs": [
    {
     "data": {
      "text/plain": [
       "[[18, 80],\n",
       " [18, 80],\n",
       " [16, 28, 12, 35, 10751, 14],\n",
       " [18, 80],\n",
       " [18, 36, 10752],\n",
       " [35, 18, 10749],\n",
       " [16, 10751, 14],\n",
       " [18],\n",
       " [10749, 16, 18],\n",
       " [35, 53, 18],\n",
       " [10749, 16],\n",
       " [14, 18, 80],\n",
       " [18, 28, 80, 53],\n",
       " [53, 80],\n",
       " [37],\n",
       " [35, 18, 10749],\n",
       " [10749],\n",
       " [12, 14, 28],\n",
       " [18, 80],\n",
       " [10749]]"
      ]
     },
     "execution_count": 12,
     "metadata": {},
     "output_type": "execute_result"
    }
   ],
   "source": [
    "genre_ids"
   ]
  },
  {
   "cell_type": "code",
   "execution_count": 13,
   "id": "6d8002cd",
   "metadata": {},
   "outputs": [
    {
     "data": {
      "text/html": [
       "<div>\n",
       "<style scoped>\n",
       "    .dataframe tbody tr th:only-of-type {\n",
       "        vertical-align: middle;\n",
       "    }\n",
       "\n",
       "    .dataframe tbody tr th {\n",
       "        vertical-align: top;\n",
       "    }\n",
       "\n",
       "    .dataframe thead th {\n",
       "        text-align: right;\n",
       "    }\n",
       "</style>\n",
       "<table border=\"1\" class=\"dataframe\">\n",
       "  <thead>\n",
       "    <tr style=\"text-align: right;\">\n",
       "      <th></th>\n",
       "      <th>Title</th>\n",
       "      <th>Description</th>\n",
       "      <th>Genre</th>\n",
       "    </tr>\n",
       "  </thead>\n",
       "  <tbody>\n",
       "    <tr>\n",
       "      <th>0</th>\n",
       "      <td>The Godfather</td>\n",
       "      <td>Spanning the years 1945 to 1955, a chronicle o...</td>\n",
       "      <td>[18, 80]</td>\n",
       "    </tr>\n",
       "    <tr>\n",
       "      <th>1</th>\n",
       "      <td>The Shawshank Redemption</td>\n",
       "      <td>Framed in the 1940s for the double murder of h...</td>\n",
       "      <td>[18, 80]</td>\n",
       "    </tr>\n",
       "    <tr>\n",
       "      <th>2</th>\n",
       "      <td>Puss in Boots: The Last Wish</td>\n",
       "      <td>Puss in Boots discovers that his passion for a...</td>\n",
       "      <td>[16, 28, 12, 35, 10751, 14]</td>\n",
       "    </tr>\n",
       "    <tr>\n",
       "      <th>3</th>\n",
       "      <td>The Godfather Part II</td>\n",
       "      <td>In the continuing saga of the Corleone crime f...</td>\n",
       "      <td>[18, 80]</td>\n",
       "    </tr>\n",
       "    <tr>\n",
       "      <th>4</th>\n",
       "      <td>Schindler's List</td>\n",
       "      <td>The true story of how businessman Oskar Schind...</td>\n",
       "      <td>[18, 36, 10752]</td>\n",
       "    </tr>\n",
       "    <tr>\n",
       "      <th>5</th>\n",
       "      <td>Dilwale Dulhania Le Jayenge</td>\n",
       "      <td>Raj is a rich, carefree, happy-go-lucky second...</td>\n",
       "      <td>[35, 18, 10749]</td>\n",
       "    </tr>\n",
       "    <tr>\n",
       "      <th>6</th>\n",
       "      <td>Spirited Away</td>\n",
       "      <td>A young girl, Chihiro, becomes trapped in a st...</td>\n",
       "      <td>[16, 10751, 14]</td>\n",
       "    </tr>\n",
       "    <tr>\n",
       "      <th>7</th>\n",
       "      <td>12 Angry Men</td>\n",
       "      <td>The defense and the prosecution have rested an...</td>\n",
       "      <td>[18]</td>\n",
       "    </tr>\n",
       "    <tr>\n",
       "      <th>8</th>\n",
       "      <td>Your Name.</td>\n",
       "      <td>High schoolers Mitsuha and Taki are complete s...</td>\n",
       "      <td>[10749, 16, 18]</td>\n",
       "    </tr>\n",
       "    <tr>\n",
       "      <th>9</th>\n",
       "      <td>Parasite</td>\n",
       "      <td>All unemployed, Ki-taek's family takes peculia...</td>\n",
       "      <td>[35, 53, 18]</td>\n",
       "    </tr>\n",
       "    <tr>\n",
       "      <th>10</th>\n",
       "      <td>Dou kyu sei – Classmates</td>\n",
       "      <td>Rihito Sajo, an honor student with a perfect s...</td>\n",
       "      <td>[10749, 16]</td>\n",
       "    </tr>\n",
       "    <tr>\n",
       "      <th>11</th>\n",
       "      <td>The Green Mile</td>\n",
       "      <td>A supernatural tale set on death row in a Sout...</td>\n",
       "      <td>[14, 18, 80]</td>\n",
       "    </tr>\n",
       "    <tr>\n",
       "      <th>12</th>\n",
       "      <td>The Dark Knight</td>\n",
       "      <td>Batman raises the stakes in his war on crime. ...</td>\n",
       "      <td>[18, 28, 80, 53]</td>\n",
       "    </tr>\n",
       "    <tr>\n",
       "      <th>13</th>\n",
       "      <td>Pulp Fiction</td>\n",
       "      <td>A burger-loving hit man, his philosophical par...</td>\n",
       "      <td>[53, 80]</td>\n",
       "    </tr>\n",
       "    <tr>\n",
       "      <th>14</th>\n",
       "      <td>The Good, the Bad and the Ugly</td>\n",
       "      <td>While the Civil War rages on between the Union...</td>\n",
       "      <td>[37]</td>\n",
       "    </tr>\n",
       "    <tr>\n",
       "      <th>15</th>\n",
       "      <td>Forrest Gump</td>\n",
       "      <td>A man with a low IQ has accomplished great thi...</td>\n",
       "      <td>[35, 18, 10749]</td>\n",
       "    </tr>\n",
       "    <tr>\n",
       "      <th>16</th>\n",
       "      <td>Gabriel's Inferno</td>\n",
       "      <td>An intriguing and sinful exploration of seduct...</td>\n",
       "      <td>[10749]</td>\n",
       "    </tr>\n",
       "    <tr>\n",
       "      <th>17</th>\n",
       "      <td>The Lord of the Rings: The Return of the King</td>\n",
       "      <td>Aragorn is revealed as the heir to the ancient...</td>\n",
       "      <td>[12, 14, 28]</td>\n",
       "    </tr>\n",
       "    <tr>\n",
       "      <th>18</th>\n",
       "      <td>GoodFellas</td>\n",
       "      <td>The true story of Henry Hill, a half-Irish, ha...</td>\n",
       "      <td>[18, 80]</td>\n",
       "    </tr>\n",
       "    <tr>\n",
       "      <th>19</th>\n",
       "      <td>Gabriel's Inferno: Part II</td>\n",
       "      <td>Professor Gabriel Emerson finally learns the t...</td>\n",
       "      <td>[10749]</td>\n",
       "    </tr>\n",
       "  </tbody>\n",
       "</table>\n",
       "</div>"
      ],
      "text/plain": [
       "                                            Title  \\\n",
       "0                                   The Godfather   \n",
       "1                        The Shawshank Redemption   \n",
       "2                    Puss in Boots: The Last Wish   \n",
       "3                           The Godfather Part II   \n",
       "4                                Schindler's List   \n",
       "5                     Dilwale Dulhania Le Jayenge   \n",
       "6                                   Spirited Away   \n",
       "7                                    12 Angry Men   \n",
       "8                                      Your Name.   \n",
       "9                                        Parasite   \n",
       "10                       Dou kyu sei – Classmates   \n",
       "11                                 The Green Mile   \n",
       "12                                The Dark Knight   \n",
       "13                                   Pulp Fiction   \n",
       "14                 The Good, the Bad and the Ugly   \n",
       "15                                   Forrest Gump   \n",
       "16                              Gabriel's Inferno   \n",
       "17  The Lord of the Rings: The Return of the King   \n",
       "18                                     GoodFellas   \n",
       "19                     Gabriel's Inferno: Part II   \n",
       "\n",
       "                                          Description  \\\n",
       "0   Spanning the years 1945 to 1955, a chronicle o...   \n",
       "1   Framed in the 1940s for the double murder of h...   \n",
       "2   Puss in Boots discovers that his passion for a...   \n",
       "3   In the continuing saga of the Corleone crime f...   \n",
       "4   The true story of how businessman Oskar Schind...   \n",
       "5   Raj is a rich, carefree, happy-go-lucky second...   \n",
       "6   A young girl, Chihiro, becomes trapped in a st...   \n",
       "7   The defense and the prosecution have rested an...   \n",
       "8   High schoolers Mitsuha and Taki are complete s...   \n",
       "9   All unemployed, Ki-taek's family takes peculia...   \n",
       "10  Rihito Sajo, an honor student with a perfect s...   \n",
       "11  A supernatural tale set on death row in a Sout...   \n",
       "12  Batman raises the stakes in his war on crime. ...   \n",
       "13  A burger-loving hit man, his philosophical par...   \n",
       "14  While the Civil War rages on between the Union...   \n",
       "15  A man with a low IQ has accomplished great thi...   \n",
       "16  An intriguing and sinful exploration of seduct...   \n",
       "17  Aragorn is revealed as the heir to the ancient...   \n",
       "18  The true story of Henry Hill, a half-Irish, ha...   \n",
       "19  Professor Gabriel Emerson finally learns the t...   \n",
       "\n",
       "                          Genre  \n",
       "0                      [18, 80]  \n",
       "1                      [18, 80]  \n",
       "2   [16, 28, 12, 35, 10751, 14]  \n",
       "3                      [18, 80]  \n",
       "4               [18, 36, 10752]  \n",
       "5               [35, 18, 10749]  \n",
       "6               [16, 10751, 14]  \n",
       "7                          [18]  \n",
       "8               [10749, 16, 18]  \n",
       "9                  [35, 53, 18]  \n",
       "10                  [10749, 16]  \n",
       "11                 [14, 18, 80]  \n",
       "12             [18, 28, 80, 53]  \n",
       "13                     [53, 80]  \n",
       "14                         [37]  \n",
       "15              [35, 18, 10749]  \n",
       "16                      [10749]  \n",
       "17                 [12, 14, 28]  \n",
       "18                     [18, 80]  \n",
       "19                      [10749]  "
      ]
     },
     "execution_count": 13,
     "metadata": {},
     "output_type": "execute_result"
    }
   ],
   "source": [
    "df = pd.DataFrame(list(zip(titles, overview, genre_ids)),columns =['Title', 'Description', 'Genre'])\n",
    "df"
   ]
  },
  {
   "cell_type": "markdown",
   "id": "969a08ae",
   "metadata": {},
   "source": [
    "### Text Preprocessing\n",
    "* Convert to lowercase\n",
    "* Remove html tags\n",
    "* Remove URL's\n",
    "* Remove Punctuation\n",
    "* Chat Words Treatment (FYI, ASAP etc.)\n",
    "* Spelling Correction\n",
    "* Removing Stopwords\n",
    "* Handling Emoji's\n",
    "* Tokenization\n",
    "* Stemming\n",
    "* Lemmatization\n"
   ]
  },
  {
   "cell_type": "code",
   "execution_count": 14,
   "id": "c555380f",
   "metadata": {},
   "outputs": [],
   "source": [
    "# Lowercase\n",
    "df['Description']=df['Description'].str.lower()"
   ]
  },
  {
   "cell_type": "code",
   "execution_count": 15,
   "id": "507fbc00",
   "metadata": {},
   "outputs": [],
   "source": [
    "# Remove html tags\n",
    "import re\n",
    "def remove_html_tags(text):\n",
    "    pattern = re.compile('<.*?>')\n",
    "    return pattern.sub(r'', text)"
   ]
  },
  {
   "cell_type": "code",
   "execution_count": 16,
   "id": "d71e5ce7",
   "metadata": {},
   "outputs": [],
   "source": [
    "df['Description'] = df['Description'].apply(remove_html_tags)"
   ]
  },
  {
   "cell_type": "code",
   "execution_count": 17,
   "id": "fedd8803",
   "metadata": {},
   "outputs": [],
   "source": [
    "# Remove URL's\n",
    "def remove_url(text):\n",
    "    pattern = re.compile(r'https?://\\S+|www\\.\\S+')\n",
    "    return pattern.sub(r'', text)"
   ]
  },
  {
   "cell_type": "code",
   "execution_count": 18,
   "id": "e2aeddc7",
   "metadata": {},
   "outputs": [],
   "source": [
    "df['Description'] = df['Description'].apply(remove_url)"
   ]
  },
  {
   "cell_type": "code",
   "execution_count": 19,
   "id": "1149c061",
   "metadata": {},
   "outputs": [
    {
     "data": {
      "text/plain": [
       "'!\"#$%&\\'()*+,-./:;<=>?@[\\\\]^_`{|}~'"
      ]
     },
     "execution_count": 19,
     "metadata": {},
     "output_type": "execute_result"
    }
   ],
   "source": [
    "# Remove Punctuations\n",
    "import string\n",
    "string.punctuation"
   ]
  },
  {
   "cell_type": "code",
   "execution_count": 20,
   "id": "9c59f4b0",
   "metadata": {},
   "outputs": [],
   "source": [
    "exclude = string.punctuation"
   ]
  },
  {
   "cell_type": "code",
   "execution_count": 21,
   "id": "dc17bcd1",
   "metadata": {},
   "outputs": [],
   "source": [
    "def remove_punc1(text):\n",
    "    return text.translate(str.maketrans('', '', exclude))"
   ]
  },
  {
   "cell_type": "code",
   "execution_count": 22,
   "id": "6c27fb97",
   "metadata": {},
   "outputs": [],
   "source": [
    "df['Description'] = df['Description'].apply(remove_punc1)"
   ]
  },
  {
   "cell_type": "code",
   "execution_count": 23,
   "id": "1e945a1c",
   "metadata": {},
   "outputs": [],
   "source": [
    "# Chatword Treatment\n",
    "chat_words = {\n",
    "    \"$\" : \" dollar \",\n",
    "    \"€\" : \" euro \",\n",
    "    \"4ao\" : \"for adults only\",\n",
    "    \"a.m\" : \"before midday\",\n",
    "    \"a3\" : \"anytime anywhere anyplace\",\n",
    "    \"aamof\" : \"as a matter of fact\",\n",
    "    \"acct\" : \"account\",\n",
    "    \"adih\" : \"another day in hell\",\n",
    "    \"afaic\" : \"as far as i am concerned\",\n",
    "    \"afaict\" : \"as far as i can tell\",\n",
    "    \"afaik\" : \"as far as i know\",\n",
    "    \"afair\" : \"as far as i remember\",\n",
    "    \"afk\" : \"away from keyboard\",\n",
    "    \"app\" : \"application\",\n",
    "    \"approx\" : \"approximately\",\n",
    "    \"apps\" : \"applications\",\n",
    "    \"asap\" : \"as soon as possible\",\n",
    "    \"asl\" : \"age, sex, location\",\n",
    "    \"atk\" : \"at the keyboard\",\n",
    "    \"ave.\" : \"avenue\",\n",
    "    \"aymm\" : \"are you my mother\",\n",
    "    \"ayor\" : \"at your own risk\", \n",
    "    \"b&b\" : \"bed and breakfast\",\n",
    "    \"b+b\" : \"bed and breakfast\",\n",
    "    \"b.c\" : \"before christ\",\n",
    "    \"b2b\" : \"business to business\",\n",
    "    \"b2c\" : \"business to customer\",\n",
    "    \"b4\" : \"before\",\n",
    "    \"b4n\" : \"bye for now\",\n",
    "    \"b@u\" : \"back at you\",\n",
    "    \"bae\" : \"before anyone else\",\n",
    "    \"bak\" : \"back at keyboard\",\n",
    "    \"bbbg\" : \"bye bye be good\",\n",
    "    \"bbc\" : \"british broadcasting corporation\",\n",
    "    \"bbias\" : \"be back in a second\",\n",
    "    \"bbl\" : \"be back later\",\n",
    "    \"bbs\" : \"be back soon\",\n",
    "    \"be4\" : \"before\",\n",
    "    \"bfn\" : \"bye for now\",\n",
    "    \"blvd\" : \"boulevard\",\n",
    "    \"bout\" : \"about\",\n",
    "    \"brb\" : \"be right back\",\n",
    "    \"bros\" : \"brothers\",\n",
    "    \"brt\" : \"be right there\",\n",
    "    \"bsaaw\" : \"big smile and a wink\",\n",
    "    \"btw\" : \"by the way\",\n",
    "    \"bwl\" : \"bursting with laughter\",\n",
    "    \"c/o\" : \"care of\",\n",
    "    \"cet\" : \"central european time\",\n",
    "    \"cf\" : \"compare\",\n",
    "    \"cia\" : \"central intelligence agency\",\n",
    "    \"csl\" : \"can not stop laughing\",\n",
    "    \"cu\" : \"see you\",\n",
    "    \"cul8r\" : \"see you later\",\n",
    "    \"cv\" : \"curriculum vitae\",\n",
    "    \"cwot\" : \"complete waste of time\",\n",
    "    \"cya\" : \"see you\",\n",
    "    \"cyt\" : \"see you tomorrow\",\n",
    "    \"dae\" : \"does anyone else\",\n",
    "    \"dbmib\" : \"do not bother me i am busy\",\n",
    "    \"diy\" : \"do it yourself\",\n",
    "    \"dm\" : \"direct message\",\n",
    "    \"dwh\" : \"during work hours\",\n",
    "    \"e123\" : \"easy as one two three\",\n",
    "    \"eet\" : \"eastern european time\",\n",
    "    \"eg\" : \"example\",\n",
    "    \"embm\" : \"early morning business meeting\",\n",
    "    \"encl\" : \"enclosed\",\n",
    "    \"encl.\" : \"enclosed\",\n",
    "    \"etc\" : \"and so on\",\n",
    "    \"faq\" : \"frequently asked questions\",\n",
    "    \"fawc\" : \"for anyone who cares\",\n",
    "    \"fb\" : \"facebook\",\n",
    "    \"fc\" : \"fingers crossed\",\n",
    "    \"fig\" : \"figure\",\n",
    "    \"fimh\" : \"forever in my heart\", \n",
    "    \"ft.\" : \"feet\",\n",
    "    \"ft\" : \"featuring\",\n",
    "    \"ftl\" : \"for the loss\",\n",
    "    \"ftw\" : \"for the win\",\n",
    "    \"fwiw\" : \"for what it is worth\",\n",
    "    \"fyi\" : \"for your information\",\n",
    "    \"g9\" : \"genius\",\n",
    "    \"gahoy\" : \"get a hold of yourself\",\n",
    "    \"gal\" : \"get a life\",\n",
    "    \"gcse\" : \"general certificate of secondary education\",\n",
    "    \"gfn\" : \"gone for now\",\n",
    "    \"gg\" : \"good game\",\n",
    "    \"gl\" : \"good luck\",\n",
    "    \"glhf\" : \"good luck have fun\",\n",
    "    \"gmt\" : \"greenwich mean time\",\n",
    "    \"gmta\" : \"great minds think alike\",\n",
    "    \"gn\" : \"good night\",\n",
    "    \"g.o.a.t\" : \"greatest of all time\",\n",
    "    \"goat\" : \"greatest of all time\",\n",
    "    \"goi\" : \"get over it\",\n",
    "    \"gps\" : \"global positioning system\",\n",
    "    \"gr8\" : \"great\",\n",
    "    \"gratz\" : \"congratulations\",\n",
    "    \"gyal\" : \"girl\",\n",
    "    \"h&c\" : \"hot and cold\",\n",
    "    \"hp\" : \"horsepower\",\n",
    "    \"hr\" : \"hour\",\n",
    "    \"hrh\" : \"his royal highness\",\n",
    "    \"ht\" : \"height\",\n",
    "    \"ibrb\" : \"i will be right back\",\n",
    "    \"ic\" : \"i see\",\n",
    "    \"icq\" : \"i seek you\",\n",
    "    \"icymi\" : \"in case you missed it\",\n",
    "    \"idc\" : \"i do not care\",\n",
    "    \"idgadf\" : \"i do not give a damn fuck\",\n",
    "    \"idgaf\" : \"i do not give a fuck\",\n",
    "    \"idk\" : \"i do not know\",\n",
    "    \"ie\" : \"that is\",\n",
    "    \"i.e\" : \"that is\",\n",
    "    \"ifyp\" : \"i feel your pain\",\n",
    "    \"IG\" : \"instagram\",\n",
    "    \"iirc\" : \"if i remember correctly\",\n",
    "    \"ilu\" : \"i love you\",\n",
    "    \"ily\" : \"i love you\",\n",
    "    \"imho\" : \"in my humble opinion\",\n",
    "    \"imo\" : \"in my opinion\",\n",
    "    \"imu\" : \"i miss you\",\n",
    "    \"iow\" : \"in other words\",\n",
    "    \"irl\" : \"in real life\",\n",
    "    \"j4f\" : \"just for fun\",\n",
    "    \"jic\" : \"just in case\",\n",
    "    \"jk\" : \"just kidding\",\n",
    "    \"jsyk\" : \"just so you know\",\n",
    "    \"l8r\" : \"later\",\n",
    "    \"lb\" : \"pound\",\n",
    "    \"lbs\" : \"pounds\",\n",
    "    \"ldr\" : \"long distance relationship\",\n",
    "    \"lmao\" : \"laugh my ass off\",\n",
    "    \"lmfao\" : \"laugh my fucking ass off\",\n",
    "    \"lol\" : \"laughing out loud\",\n",
    "    \"ltd\" : \"limited\",\n",
    "    \"ltns\" : \"long time no see\",\n",
    "    \"m8\" : \"mate\",\n",
    "    \"mf\" : \"motherfucker\",\n",
    "    \"mfs\" : \"motherfuckers\",\n",
    "    \"mfw\" : \"my face when\",\n",
    "    \"mofo\" : \"motherfucker\",\n",
    "    \"mph\" : \"miles per hour\",\n",
    "    \"mr\" : \"mister\",\n",
    "    \"mrw\" : \"my reaction when\",\n",
    "    \"ms\" : \"miss\",\n",
    "    \"mte\" : \"my thoughts exactly\",\n",
    "    \"nagi\" : \"not a good idea\",\n",
    "    \"nbc\" : \"national broadcasting company\",\n",
    "    \"nbd\" : \"not big deal\",\n",
    "    \"nfs\" : \"not for sale\",\n",
    "    \"ngl\" : \"not going to lie\",\n",
    "    \"nhs\" : \"national health service\",\n",
    "    \"nrn\" : \"no reply necessary\",\n",
    "    \"nsfl\" : \"not safe for life\",\n",
    "    \"nsfw\" : \"not safe for work\",\n",
    "    \"nth\" : \"nice to have\",\n",
    "    \"nvr\" : \"never\",\n",
    "    \"nyc\" : \"new york city\",\n",
    "    \"oc\" : \"original content\",\n",
    "    \"og\" : \"original\",\n",
    "    \"ohp\" : \"overhead projector\",\n",
    "    \"oic\" : \"oh i see\",\n",
    "    \"omdb\" : \"over my dead body\",\n",
    "    \"omg\" : \"oh my god\",\n",
    "    \"omw\" : \"on my way\",\n",
    "    \"p.a\" : \"per annum\",\n",
    "    \"p.m\" : \"after midday\",\n",
    "    \"pm\" : \"prime minister\",\n",
    "    \"poc\" : \"people of color\",\n",
    "    \"pov\" : \"point of view\",\n",
    "    \"pp\" : \"pages\",\n",
    "    \"ppl\" : \"people\",\n",
    "    \"prw\" : \"parents are watching\",\n",
    "    \"ps\" : \"postscript\",\n",
    "    \"pt\" : \"point\",\n",
    "    \"ptb\" : \"please text back\",\n",
    "    \"pto\" : \"please turn over\",\n",
    "    \"qpsa\" : \"what happens\", #\"que pasa\",\n",
    "    \"ratchet\" : \"rude\",\n",
    "    \"rbtl\" : \"read between the lines\",\n",
    "    \"rlrt\" : \"real life retweet\", \n",
    "    \"rofl\" : \"rolling on the floor laughing\",\n",
    "    \"roflol\" : \"rolling on the floor laughing out loud\",\n",
    "    \"rotflmao\" : \"rolling on the floor laughing my ass off\",\n",
    "    \"rt\" : \"retweet\",\n",
    "    \"ruok\" : \"are you ok\",\n",
    "    \"sfw\" : \"safe for work\",\n",
    "    \"sk8\" : \"skate\",\n",
    "    \"smh\" : \"shake my head\",\n",
    "    \"sq\" : \"square\",\n",
    "    \"srsly\" : \"seriously\", \n",
    "    \"ssdd\" : \"same stuff different day\",\n",
    "    \"tbh\" : \"to be honest\",\n",
    "    \"tbs\" : \"tablespooful\",\n",
    "    \"tbsp\" : \"tablespooful\",\n",
    "    \"tfw\" : \"that feeling when\",\n",
    "    \"thks\" : \"thank you\",\n",
    "    \"tho\" : \"though\",\n",
    "    \"thx\" : \"thank you\",\n",
    "    \"tia\" : \"thanks in advance\",\n",
    "    \"til\" : \"today i learned\",\n",
    "    \"tl;dr\" : \"too long i did not read\",\n",
    "    \"tldr\" : \"too long i did not read\",\n",
    "    \"tmb\" : \"tweet me back\",\n",
    "    \"tntl\" : \"trying not to laugh\",\n",
    "    \"ttyl\" : \"talk to you later\",\n",
    "    \"u\" : \"you\",\n",
    "    \"u2\" : \"you too\",\n",
    "    \"u4e\" : \"yours for ever\",\n",
    "    \"utc\" : \"coordinated universal time\",\n",
    "    \"w/\" : \"with\",\n",
    "    \"w/o\" : \"without\",\n",
    "    \"w8\" : \"wait\",\n",
    "    \"wassup\" : \"what is up\",\n",
    "    \"wb\" : \"welcome back\",\n",
    "    \"wtf\" : \"what the fuck\",\n",
    "    \"wtg\" : \"way to go\",\n",
    "    \"wtpa\" : \"where the party at\",\n",
    "    \"wuf\" : \"where are you from\",\n",
    "    \"wuzup\" : \"what is up\",\n",
    "    \"wywh\" : \"wish you were here\",\n",
    "    \"yd\" : \"yard\",\n",
    "    \"ygtr\" : \"you got that right\",\n",
    "    \"ynk\" : \"you never know\",\n",
    "    \"zzz\" : \"sleeping bored and tired\"\n",
    "}"
   ]
  },
  {
   "cell_type": "code",
   "execution_count": 24,
   "id": "7a8152e6",
   "metadata": {},
   "outputs": [],
   "source": [
    "def chat_conversion(text):\n",
    "    new_text = []\n",
    "    for w in text.split():\n",
    "        if w.lower() in chat_words:\n",
    "            new_text.append(chat_words[w.lower()])\n",
    "        else:\n",
    "            new_text.append(w)\n",
    "    return \" \".join(new_text)"
   ]
  },
  {
   "cell_type": "code",
   "execution_count": 25,
   "id": "8f97aa2a",
   "metadata": {},
   "outputs": [
    {
     "data": {
      "text/plain": [
       "'in my humble opinion he is the best'"
      ]
     },
     "execution_count": 25,
     "metadata": {},
     "output_type": "execute_result"
    }
   ],
   "source": [
    "chat_conversion('IMHO he is the best')"
   ]
  },
  {
   "cell_type": "code",
   "execution_count": 26,
   "id": "8d554eac",
   "metadata": {},
   "outputs": [],
   "source": [
    "df['Description'] = df['Description'].apply(chat_conversion)"
   ]
  },
  {
   "cell_type": "code",
   "execution_count": 27,
   "id": "c4f23bf4",
   "metadata": {},
   "outputs": [],
   "source": [
    "# Spelling Correction\n",
    "from textblob import TextBlob"
   ]
  },
  {
   "cell_type": "code",
   "execution_count": 28,
   "id": "73f662cb",
   "metadata": {},
   "outputs": [
    {
     "data": {
      "text/plain": [
       "'certain conditions during several generations are modified in the same manner.'"
      ]
     },
     "execution_count": 28,
     "metadata": {},
     "output_type": "execute_result"
    }
   ],
   "source": [
    "incorrect_text = 'ceertain conditionas duriing seveal ggenerations aree moodified in the saame maner.'\n",
    "\n",
    "textBlb = TextBlob(incorrect_text)\n",
    "\n",
    "textBlb.correct().string"
   ]
  },
  {
   "cell_type": "code",
   "execution_count": 29,
   "id": "a3f04f44",
   "metadata": {},
   "outputs": [
    {
     "data": {
      "text/plain": [
       "0     spanning the years 1945 to 1955 a chronicle of...\n",
       "1     framed in the 1940s for the double murder of h...\n",
       "2     puss in boots discovers that his passion for a...\n",
       "3     in the continuing saga of the corleone crime f...\n",
       "4     the true story of how businessman oskar schind...\n",
       "5     raj is a rich carefree happygolucky second gen...\n",
       "6     a young girl chihiro becomes trapped in a stra...\n",
       "7     the defense and the prosecution have rested an...\n",
       "8     high schoolers mitsuha and taki are complete s...\n",
       "9     all unemployed kitaeks family takes peculiar i...\n",
       "10    rihito sajo an honor student with a perfect sc...\n",
       "11    a supernatural tale set on death row in a sout...\n",
       "12    batman raises the stakes in his war on crime w...\n",
       "13    a burgerloving hit man his philosophical partn...\n",
       "14    while the civil war rages on between the union...\n",
       "15    a man with a low iq has accomplished great thi...\n",
       "16    an intriguing and sinful exploration of seduct...\n",
       "17    aragorn is revealed as the heir to the ancient...\n",
       "18    the true story of henry hill a halfirish halfs...\n",
       "19    professor gabriel emerson finally learns the t...\n",
       "Name: Description, dtype: object"
      ]
     },
     "execution_count": 29,
     "metadata": {},
     "output_type": "execute_result"
    }
   ],
   "source": [
    "df['Description']"
   ]
  },
  {
   "cell_type": "code",
   "execution_count": 30,
   "id": "d3f0d615",
   "metadata": {},
   "outputs": [],
   "source": [
    "# Removing Stopwords\n",
    "from nltk.corpus import stopwords"
   ]
  },
  {
   "cell_type": "code",
   "execution_count": 31,
   "id": "8ce18b2a",
   "metadata": {},
   "outputs": [
    {
     "data": {
      "text/plain": [
       "['i',\n",
       " 'me',\n",
       " 'my',\n",
       " 'myself',\n",
       " 'we',\n",
       " 'our',\n",
       " 'ours',\n",
       " 'ourselves',\n",
       " 'you',\n",
       " \"you're\",\n",
       " \"you've\",\n",
       " \"you'll\",\n",
       " \"you'd\",\n",
       " 'your',\n",
       " 'yours',\n",
       " 'yourself',\n",
       " 'yourselves',\n",
       " 'he',\n",
       " 'him',\n",
       " 'his',\n",
       " 'himself',\n",
       " 'she',\n",
       " \"she's\",\n",
       " 'her',\n",
       " 'hers',\n",
       " 'herself',\n",
       " 'it',\n",
       " \"it's\",\n",
       " 'its',\n",
       " 'itself',\n",
       " 'they',\n",
       " 'them',\n",
       " 'their',\n",
       " 'theirs',\n",
       " 'themselves',\n",
       " 'what',\n",
       " 'which',\n",
       " 'who',\n",
       " 'whom',\n",
       " 'this',\n",
       " 'that',\n",
       " \"that'll\",\n",
       " 'these',\n",
       " 'those',\n",
       " 'am',\n",
       " 'is',\n",
       " 'are',\n",
       " 'was',\n",
       " 'were',\n",
       " 'be',\n",
       " 'been',\n",
       " 'being',\n",
       " 'have',\n",
       " 'has',\n",
       " 'had',\n",
       " 'having',\n",
       " 'do',\n",
       " 'does',\n",
       " 'did',\n",
       " 'doing',\n",
       " 'a',\n",
       " 'an',\n",
       " 'the',\n",
       " 'and',\n",
       " 'but',\n",
       " 'if',\n",
       " 'or',\n",
       " 'because',\n",
       " 'as',\n",
       " 'until',\n",
       " 'while',\n",
       " 'of',\n",
       " 'at',\n",
       " 'by',\n",
       " 'for',\n",
       " 'with',\n",
       " 'about',\n",
       " 'against',\n",
       " 'between',\n",
       " 'into',\n",
       " 'through',\n",
       " 'during',\n",
       " 'before',\n",
       " 'after',\n",
       " 'above',\n",
       " 'below',\n",
       " 'to',\n",
       " 'from',\n",
       " 'up',\n",
       " 'down',\n",
       " 'in',\n",
       " 'out',\n",
       " 'on',\n",
       " 'off',\n",
       " 'over',\n",
       " 'under',\n",
       " 'again',\n",
       " 'further',\n",
       " 'then',\n",
       " 'once',\n",
       " 'here',\n",
       " 'there',\n",
       " 'when',\n",
       " 'where',\n",
       " 'why',\n",
       " 'how',\n",
       " 'all',\n",
       " 'any',\n",
       " 'both',\n",
       " 'each',\n",
       " 'few',\n",
       " 'more',\n",
       " 'most',\n",
       " 'other',\n",
       " 'some',\n",
       " 'such',\n",
       " 'no',\n",
       " 'nor',\n",
       " 'not',\n",
       " 'only',\n",
       " 'own',\n",
       " 'same',\n",
       " 'so',\n",
       " 'than',\n",
       " 'too',\n",
       " 'very',\n",
       " 's',\n",
       " 't',\n",
       " 'can',\n",
       " 'will',\n",
       " 'just',\n",
       " 'don',\n",
       " \"don't\",\n",
       " 'should',\n",
       " \"should've\",\n",
       " 'now',\n",
       " 'd',\n",
       " 'll',\n",
       " 'm',\n",
       " 'o',\n",
       " 're',\n",
       " 've',\n",
       " 'y',\n",
       " 'ain',\n",
       " 'aren',\n",
       " \"aren't\",\n",
       " 'couldn',\n",
       " \"couldn't\",\n",
       " 'didn',\n",
       " \"didn't\",\n",
       " 'doesn',\n",
       " \"doesn't\",\n",
       " 'hadn',\n",
       " \"hadn't\",\n",
       " 'hasn',\n",
       " \"hasn't\",\n",
       " 'haven',\n",
       " \"haven't\",\n",
       " 'isn',\n",
       " \"isn't\",\n",
       " 'ma',\n",
       " 'mightn',\n",
       " \"mightn't\",\n",
       " 'mustn',\n",
       " \"mustn't\",\n",
       " 'needn',\n",
       " \"needn't\",\n",
       " 'shan',\n",
       " \"shan't\",\n",
       " 'shouldn',\n",
       " \"shouldn't\",\n",
       " 'wasn',\n",
       " \"wasn't\",\n",
       " 'weren',\n",
       " \"weren't\",\n",
       " 'won',\n",
       " \"won't\",\n",
       " 'wouldn',\n",
       " \"wouldn't\"]"
      ]
     },
     "execution_count": 31,
     "metadata": {},
     "output_type": "execute_result"
    }
   ],
   "source": [
    "stopwords.words('english')"
   ]
  },
  {
   "cell_type": "code",
   "execution_count": 32,
   "id": "34599a7b",
   "metadata": {},
   "outputs": [],
   "source": [
    "def remove_stopwords(text):\n",
    "    new_text = []\n",
    "    \n",
    "    for word in text.split():\n",
    "        if word in stopwords.words('english'):\n",
    "            new_text.append('')\n",
    "        else:\n",
    "            new_text.append(word)\n",
    "    x = new_text[:]\n",
    "    new_text.clear()\n",
    "    return \" \".join(x)"
   ]
  },
  {
   "cell_type": "code",
   "execution_count": 33,
   "id": "8e96359d",
   "metadata": {},
   "outputs": [
    {
     "data": {
      "text/plain": [
       "'probably  all-time favorite movie,  story  selflessness, sacrifice  dedication   noble cause,    preachy  boring.   never gets old, despite   seen   15   times'"
      ]
     },
     "execution_count": 33,
     "metadata": {},
     "output_type": "execute_result"
    }
   ],
   "source": [
    "remove_stopwords('probably my all-time favorite movie, a story of selflessness, sacrifice and dedication to a noble cause, but it\\'s not preachy or boring. it just never gets old, despite my having seen it some 15 or more times')"
   ]
  },
  {
   "cell_type": "code",
   "execution_count": 34,
   "id": "7dce536d",
   "metadata": {},
   "outputs": [
    {
     "data": {
      "text/html": [
       "<div>\n",
       "<style scoped>\n",
       "    .dataframe tbody tr th:only-of-type {\n",
       "        vertical-align: middle;\n",
       "    }\n",
       "\n",
       "    .dataframe tbody tr th {\n",
       "        vertical-align: top;\n",
       "    }\n",
       "\n",
       "    .dataframe thead th {\n",
       "        text-align: right;\n",
       "    }\n",
       "</style>\n",
       "<table border=\"1\" class=\"dataframe\">\n",
       "  <thead>\n",
       "    <tr style=\"text-align: right;\">\n",
       "      <th></th>\n",
       "      <th>Title</th>\n",
       "      <th>Description</th>\n",
       "      <th>Genre</th>\n",
       "    </tr>\n",
       "  </thead>\n",
       "  <tbody>\n",
       "    <tr>\n",
       "      <th>0</th>\n",
       "      <td>The Godfather</td>\n",
       "      <td>spanning the years 1945 to 1955 a chronicle of...</td>\n",
       "      <td>[18, 80]</td>\n",
       "    </tr>\n",
       "    <tr>\n",
       "      <th>1</th>\n",
       "      <td>The Shawshank Redemption</td>\n",
       "      <td>framed in the 1940s for the double murder of h...</td>\n",
       "      <td>[18, 80]</td>\n",
       "    </tr>\n",
       "    <tr>\n",
       "      <th>2</th>\n",
       "      <td>Puss in Boots: The Last Wish</td>\n",
       "      <td>puss in boots discovers that his passion for a...</td>\n",
       "      <td>[16, 28, 12, 35, 10751, 14]</td>\n",
       "    </tr>\n",
       "    <tr>\n",
       "      <th>3</th>\n",
       "      <td>The Godfather Part II</td>\n",
       "      <td>in the continuing saga of the corleone crime f...</td>\n",
       "      <td>[18, 80]</td>\n",
       "    </tr>\n",
       "    <tr>\n",
       "      <th>4</th>\n",
       "      <td>Schindler's List</td>\n",
       "      <td>the true story of how businessman oskar schind...</td>\n",
       "      <td>[18, 36, 10752]</td>\n",
       "    </tr>\n",
       "  </tbody>\n",
       "</table>\n",
       "</div>"
      ],
      "text/plain": [
       "                          Title  \\\n",
       "0                 The Godfather   \n",
       "1      The Shawshank Redemption   \n",
       "2  Puss in Boots: The Last Wish   \n",
       "3         The Godfather Part II   \n",
       "4              Schindler's List   \n",
       "\n",
       "                                         Description  \\\n",
       "0  spanning the years 1945 to 1955 a chronicle of...   \n",
       "1  framed in the 1940s for the double murder of h...   \n",
       "2  puss in boots discovers that his passion for a...   \n",
       "3  in the continuing saga of the corleone crime f...   \n",
       "4  the true story of how businessman oskar schind...   \n",
       "\n",
       "                         Genre  \n",
       "0                     [18, 80]  \n",
       "1                     [18, 80]  \n",
       "2  [16, 28, 12, 35, 10751, 14]  \n",
       "3                     [18, 80]  \n",
       "4              [18, 36, 10752]  "
      ]
     },
     "execution_count": 34,
     "metadata": {},
     "output_type": "execute_result"
    }
   ],
   "source": [
    "df.head()"
   ]
  },
  {
   "cell_type": "code",
   "execution_count": 35,
   "id": "58d230b6",
   "metadata": {},
   "outputs": [
    {
     "data": {
      "text/plain": [
       "0     spanning  years 1945  1955  chronicle   fictio...\n",
       "1     framed   1940s   double murder   wife   lover ...\n",
       "2     puss  boots discovers   passion  adventure  ta...\n",
       "3       continuing saga   corleone crime family  you...\n",
       "4      true story   businessman oskar schindler save...\n",
       "5     raj   rich carefree happygolucky second genera...\n",
       "6      young girl chihiro becomes trapped   strange ...\n",
       "7      defense   prosecution  rested   jury  filing ...\n",
       "8     high schoolers mitsuha  taki  complete strange...\n",
       "9      unemployed kitaeks family takes peculiar inte...\n",
       "10    rihito sajo  honor student   perfect score   e...\n",
       "11     supernatural tale set  death row   southern p...\n",
       "12    batman raises  stakes   war  crime   help  lt ...\n",
       "13     burgerloving hit man  philosophical partner  ...\n",
       "14      civil war rages    union   confederacy three...\n",
       "15     man   low iq  accomplished great things   lif...\n",
       "16     intriguing  sinful exploration  seduction for...\n",
       "17    aragorn  revealed   heir   ancient kings   gan...\n",
       "18     true story  henry hill  halfirish halfsicilia...\n",
       "19    professor gabriel emerson finally learns  trut...\n",
       "Name: Description, dtype: object"
      ]
     },
     "execution_count": 35,
     "metadata": {},
     "output_type": "execute_result"
    }
   ],
   "source": [
    "df['Description'].apply(remove_stopwords)"
   ]
  },
  {
   "cell_type": "code",
   "execution_count": 36,
   "id": "1115e4be",
   "metadata": {},
   "outputs": [],
   "source": [
    "# Handling Emojis\n",
    "import re\n",
    "def remove_emoji(text):\n",
    "    emoji_pattern = re.compile(\"[\"\n",
    "                           u\"\\U0001F600-\\U0001F64F\"  # emoticons\n",
    "                           u\"\\U0001F300-\\U0001F5FF\"  # symbols & pictographs\n",
    "                           u\"\\U0001F680-\\U0001F6FF\"  # transport & map symbols\n",
    "                           u\"\\U0001F1E0-\\U0001F1FF\"  # flags (iOS)\n",
    "                           u\"\\U00002702-\\U000027B0\"\n",
    "                           u\"\\U000024C2-\\U0001F251\"\n",
    "                           \"]+\", flags=re.UNICODE)\n",
    "    return emoji_pattern.sub(r'', text)"
   ]
  },
  {
   "cell_type": "code",
   "execution_count": 37,
   "id": "0359209e",
   "metadata": {},
   "outputs": [
    {
     "data": {
      "text/plain": [
       "'Loved the movie. It was '"
      ]
     },
     "execution_count": 37,
     "metadata": {},
     "output_type": "execute_result"
    }
   ],
   "source": [
    "remove_emoji(\"Loved the movie. It was 😘😘\")"
   ]
  },
  {
   "cell_type": "code",
   "execution_count": 38,
   "id": "aa7cdcae",
   "metadata": {},
   "outputs": [
    {
     "name": "stdout",
     "output_type": "stream",
     "text": [
      "Python is :fire:\n"
     ]
    }
   ],
   "source": [
    "import emoji\n",
    "print(emoji.demojize('Python is 🔥'))"
   ]
  },
  {
   "cell_type": "code",
   "execution_count": 55,
   "id": "149b0c48",
   "metadata": {},
   "outputs": [],
   "source": [
    "df['Description'] = df['Description'].apply(remove_emoji)"
   ]
  },
  {
   "cell_type": "code",
   "execution_count": 39,
   "id": "1dfd9c2b",
   "metadata": {},
   "outputs": [],
   "source": [
    "# Tokenization\n",
    "from nltk.tokenize import word_tokenize,sent_tokenize"
   ]
  },
  {
   "cell_type": "code",
   "execution_count": 40,
   "id": "46e67065",
   "metadata": {},
   "outputs": [
    {
     "data": {
      "text/plain": [
       "['I', 'am', 'going', 'to', 'visit', 'delhi', '!']"
      ]
     },
     "execution_count": 40,
     "metadata": {},
     "output_type": "execute_result"
    }
   ],
   "source": [
    "sent1 = 'I am going to visit delhi!'\n",
    "word_tokenize(sent1)"
   ]
  },
  {
   "cell_type": "code",
   "execution_count": 41,
   "id": "c5737deb",
   "metadata": {},
   "outputs": [
    {
     "data": {
      "text/plain": [
       "['Lorem Ipsum is simply dummy text of the printing and typesetting industry?',\n",
       " \"Lorem Ipsum has been the industry's standard dummy text ever since the 1500s, \\nwhen an unknown printer took a galley of type and scrambled it to make a type specimen book.\"]"
      ]
     },
     "execution_count": 41,
     "metadata": {},
     "output_type": "execute_result"
    }
   ],
   "source": [
    "text = \"\"\"Lorem Ipsum is simply dummy text of the printing and typesetting industry? \n",
    "Lorem Ipsum has been the industry's standard dummy text ever since the 1500s, \n",
    "when an unknown printer took a galley of type and scrambled it to make a type specimen book.\"\"\"\n",
    "\n",
    "sent_tokenize(text)"
   ]
  },
  {
   "cell_type": "code",
   "execution_count": 42,
   "id": "0c70612d",
   "metadata": {},
   "outputs": [
    {
     "data": {
      "text/plain": [
       "['I', 'have', 'a', 'Ph.D', 'in', 'A.I']"
      ]
     },
     "execution_count": 42,
     "metadata": {},
     "output_type": "execute_result"
    }
   ],
   "source": [
    "sent5 = 'I have a Ph.D in A.I'\n",
    "sent6 = \"We're here to help! mail us at nks@gmail.com\"\n",
    "sent7 = 'A 5km ride cost $10.50'\n",
    "\n",
    "word_tokenize(sent5)"
   ]
  },
  {
   "cell_type": "code",
   "execution_count": 43,
   "id": "5178f2c2",
   "metadata": {},
   "outputs": [
    {
     "data": {
      "text/plain": [
       "['We',\n",
       " \"'re\",\n",
       " 'here',\n",
       " 'to',\n",
       " 'help',\n",
       " '!',\n",
       " 'mail',\n",
       " 'us',\n",
       " 'at',\n",
       " 'nks',\n",
       " '@',\n",
       " 'gmail.com']"
      ]
     },
     "execution_count": 43,
     "metadata": {},
     "output_type": "execute_result"
    }
   ],
   "source": [
    "word_tokenize(sent6)"
   ]
  },
  {
   "cell_type": "code",
   "execution_count": 59,
   "id": "c56e9a47",
   "metadata": {},
   "outputs": [
    {
     "data": {
      "text/plain": [
       "0     spanning the years 1945 to 1955 a chronicle of...\n",
       "1     framed in the 1940s for the double murder of h...\n",
       "2     puss in boots discovers that his passion for a...\n",
       "3     in the continuing saga of the corleone crime f...\n",
       "4     the true story of how businessman oskar schind...\n",
       "5     raj is a rich carefree happygolucky second gen...\n",
       "6     a young girl chihiro becomes trapped in a stra...\n",
       "7     the defense and the prosecution have rested an...\n",
       "8     high schoolers mitsuha and taki are complete s...\n",
       "9     all unemployed kitaeks family takes peculiar i...\n",
       "10    rihito sajo an honor student with a perfect sc...\n",
       "11    a supernatural tale set on death row in a sout...\n",
       "12    batman raises the stakes in his war on crime w...\n",
       "13    a burgerloving hit man his philosophical partn...\n",
       "14    while the civil war rages on between the union...\n",
       "15    a man with a low iq has accomplished great thi...\n",
       "16    an intriguing and sinful exploration of seduct...\n",
       "17    aragorn is revealed as the heir to the ancient...\n",
       "18    the true story of henry hill a halfirish halfs...\n",
       "19    professor gabriel emerson finally learns the t...\n",
       "Name: Description, dtype: object"
      ]
     },
     "execution_count": 59,
     "metadata": {},
     "output_type": "execute_result"
    }
   ],
   "source": [
    "df['Description']"
   ]
  },
  {
   "cell_type": "code",
   "execution_count": 44,
   "id": "ca758454",
   "metadata": {},
   "outputs": [],
   "source": [
    "import spacy\n",
    "nlp = spacy.load('en_core_web_sm')"
   ]
  },
  {
   "cell_type": "code",
   "execution_count": 45,
   "id": "463411d4",
   "metadata": {},
   "outputs": [],
   "source": [
    "doc1 = nlp(sent5)\n",
    "doc2 = nlp(sent6)\n",
    "doc3 = nlp(sent7)\n",
    "doc4 = nlp(sent1)"
   ]
  },
  {
   "cell_type": "code",
   "execution_count": 46,
   "id": "da008347",
   "metadata": {},
   "outputs": [
    {
     "name": "stdout",
     "output_type": "stream",
     "text": [
      "I\n",
      "am\n",
      "going\n",
      "to\n",
      "visit\n",
      "delhi\n",
      "!\n"
     ]
    }
   ],
   "source": [
    "for token in doc4:\n",
    "    print(token)"
   ]
  },
  {
   "cell_type": "code",
   "execution_count": 47,
   "id": "82939d58",
   "metadata": {},
   "outputs": [],
   "source": [
    "from nltk.stem.porter import PorterStemmer"
   ]
  },
  {
   "cell_type": "code",
   "execution_count": 48,
   "id": "bc8d23b3",
   "metadata": {},
   "outputs": [],
   "source": [
    "ps = PorterStemmer()\n",
    "def stem_words(text):\n",
    "    return \" \".join([ps.stem(word) for word in text.split()])"
   ]
  },
  {
   "cell_type": "code",
   "execution_count": 49,
   "id": "943f4378",
   "metadata": {},
   "outputs": [
    {
     "data": {
      "text/plain": [
       "'walk walk walk walk'"
      ]
     },
     "execution_count": 49,
     "metadata": {},
     "output_type": "execute_result"
    }
   ],
   "source": [
    "sample = \"walk walks walking walked\"\n",
    "stem_words(sample)"
   ]
  },
  {
   "cell_type": "code",
   "execution_count": 50,
   "id": "6c97769c",
   "metadata": {},
   "outputs": [
    {
     "name": "stdout",
     "output_type": "stream",
     "text": [
      "probably my alltime favorite movie a story of selflessness sacrifice and dedication to a noble cause but its not preachy or boring it just never gets old despite my having seen it some 15 or more times in the last 25 years paul lukas performance brings tears to my eyes and bette davis in one of her very few truly sympathetic roles is a delight the kids are as grandma says more like dressedup midgets than children but that only makes them more fun to watch and the mothers slow awakening to whats happening in the world and under her own roof is believable and startling if i had a dozen thumbs theyd all be up for this movie\n"
     ]
    }
   ],
   "source": [
    "text = 'probably my alltime favorite movie a story of selflessness sacrifice and dedication to a noble cause but its not preachy or boring it just never gets old despite my having seen it some 15 or more times in the last 25 years paul lukas performance brings tears to my eyes and bette davis in one of her very few truly sympathetic roles is a delight the kids are as grandma says more like dressedup midgets than children but that only makes them more fun to watch and the mothers slow awakening to whats happening in the world and under her own roof is believable and startling if i had a dozen thumbs theyd all be up for this movie'\n",
    "print(text)"
   ]
  },
  {
   "cell_type": "code",
   "execution_count": 51,
   "id": "9dafae52",
   "metadata": {},
   "outputs": [
    {
     "data": {
      "text/plain": [
       "'probabl my alltim favorit movi a stori of selfless sacrific and dedic to a nobl caus but it not preachi or bore it just never get old despit my have seen it some 15 or more time in the last 25 year paul luka perform bring tear to my eye and bett davi in one of her veri few truli sympathet role is a delight the kid are as grandma say more like dressedup midget than children but that onli make them more fun to watch and the mother slow awaken to what happen in the world and under her own roof is believ and startl if i had a dozen thumb theyd all be up for thi movi'"
      ]
     },
     "execution_count": 51,
     "metadata": {},
     "output_type": "execute_result"
    }
   ],
   "source": [
    "stem_words(text)"
   ]
  },
  {
   "cell_type": "code",
   "execution_count": 54,
   "id": "8472384c",
   "metadata": {},
   "outputs": [
    {
     "name": "stdout",
     "output_type": "stream",
     "text": [
      "Word                Lemma               \n",
      "He                  He                  \n",
      "was                 be                  \n",
      "running             run                 \n",
      "and                 and                 \n",
      "eating              eat                 \n",
      "at                  at                  \n",
      "same                same                \n",
      "time                time                \n",
      "He                  He                  \n",
      "has                 have                \n",
      "bad                 bad                 \n",
      "habit               habit               \n",
      "of                  of                  \n",
      "swimming            swim                \n",
      "after               after               \n",
      "playing             play                \n",
      "long                long                \n",
      "hours               hours               \n",
      "in                  in                  \n",
      "the                 the                 \n",
      "Sun                 Sun                 \n"
     ]
    }
   ],
   "source": [
    "#Lemmatization\n",
    "import nltk\n",
    "from nltk.stem import WordNetLemmatizer\n",
    "wordnet_lemmatizer = WordNetLemmatizer()\n",
    "\n",
    "sentence = \"He was running and eating at same time. He has bad habit of swimming after playing long hours in the Sun.\"\n",
    "punctuations=\"?:!.,;\"\n",
    "sentence_words = nltk.word_tokenize(sentence)\n",
    "for word in sentence_words:\n",
    "    if word in punctuations:\n",
    "        sentence_words.remove(word)\n",
    "\n",
    "sentence_words\n",
    "print(\"{0:20}{1:20}\".format(\"Word\",\"Lemma\"))\n",
    "for word in sentence_words:\n",
    "    print (\"{0:20}{1:20}\".format(word,wordnet_lemmatizer.lemmatize(word,pos='v')))"
   ]
  },
  {
   "cell_type": "code",
   "execution_count": null,
   "id": "fe89e195",
   "metadata": {},
   "outputs": [],
   "source": []
  }
 ],
 "metadata": {
  "kernelspec": {
   "display_name": "Python 3 (ipykernel)",
   "language": "python",
   "name": "python3"
  },
  "language_info": {
   "codemirror_mode": {
    "name": "ipython",
    "version": 3
   },
   "file_extension": ".py",
   "mimetype": "text/x-python",
   "name": "python",
   "nbconvert_exporter": "python",
   "pygments_lexer": "ipython3",
   "version": "3.9.7"
  }
 },
 "nbformat": 4,
 "nbformat_minor": 5
}
